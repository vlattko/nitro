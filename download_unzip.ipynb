{
 "cells": [
  {
   "cell_type": "code",
   "execution_count": null,
   "metadata": {},
   "outputs": [],
   "source": [
    "# download zip from url and unzip it\n",
    "\n",
    "import os\n",
    "import zipfile\n",
    "import requests\n",
    "\n",
    "def download_unzip(url, path):\n",
    "    r = requests.get(url)\n",
    "    z = zipfile.ZipFile(io.BytesIO(r.content))\n",
    "    z.extractall(path)\n",
    "    \n",
    "url = 'https://data.mendeley.com/public-files/datasets/g7xnn2bm4g/files/0caeb722-2a0e-4690-9f23-84f3230f2218/file_downloaded'\n",
    "path = os.getcwd()\n",
    "\n",
    "download_unzip(url, path)"
   ]
  }
 ],
 "metadata": {
  "language_info": {
   "name": "python"
  },
  "orig_nbformat": 4
 },
 "nbformat": 4,
 "nbformat_minor": 2
}
